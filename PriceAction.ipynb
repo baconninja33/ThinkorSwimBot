{
 "metadata": {
  "language_info": {
   "codemirror_mode": {
    "name": "ipython",
    "version": 3
   },
   "file_extension": ".py",
   "mimetype": "text/x-python",
   "name": "python",
   "nbconvert_exporter": "python",
   "pygments_lexer": "ipython3",
   "version": 3
  },
  "orig_nbformat": 2
 },
 "nbformat": 4,
 "nbformat_minor": 2,
 "cells": [
  {
   "cell_type": "code",
   "execution_count": null,
   "metadata": {},
   "outputs": [],
   "source": [
    "import requests\n",
    "from config import client_id\n"
   ]
  },
  {
   "cell_type": "code",
   "execution_count": null,
   "metadata": {},
   "outputs": [],
   "source": [
    "# The daily prices endpoint\n",
    "\n",
    "#define our endpoint\n",
    "\n",
    "endpoint = r\"https://api.tdameritrade.com/v1/marketdata{}/pricehistory\".format('GOOG')\n",
    "\n",
    "payload = {\n",
    "    'apikey'\n",
    "}"
   ]
  }
 ]
}